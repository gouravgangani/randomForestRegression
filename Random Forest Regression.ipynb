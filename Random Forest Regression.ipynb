{
 "cells": [
  {
   "cell_type": "code",
   "execution_count": 228,
   "metadata": {},
   "outputs": [],
   "source": [
    "#Random Forest Regression\n",
    "'''\n",
    "The purpose of this program is to show how Random Forest Regressor works to predict the Dependent Variable. \n",
    "Accuracy would be bad as data preprocessing is not applied. \n",
    "'''\n",
    "\n",
    "#Importing the Libraries\n",
    "import numpy as np\n",
    "import pandas as pd\n",
    "import matplotlib.pyplot as plt"
   ]
  },
  {
   "cell_type": "code",
   "execution_count": 229,
   "metadata": {},
   "outputs": [
    {
     "data": {
      "text/plain": [
       "age           int64\n",
       "expenses    float64\n",
       "dtype: object"
      ]
     },
     "execution_count": 229,
     "metadata": {},
     "output_type": "execute_result"
    }
   ],
   "source": [
    "#Loading the Dataset\n",
    "loadDataset = pd.read_csv(\"Downloads/insurance1.csv\")\n",
    "loadDataset.head()\n",
    "loadDataset.dtypes"
   ]
  },
  {
   "cell_type": "code",
   "execution_count": 230,
   "metadata": {},
   "outputs": [
    {
     "name": "stdout",
     "output_type": "stream",
     "text": [
      "(1338,)\n",
      "(1338, 1)\n",
      "[16884.92  1725.55  4449.46 ...  1629.83  2007.95 29141.36]\n"
     ]
    }
   ],
   "source": [
    "# Parting into Train and Test Dataset\n",
    "X = loadDataset.iloc[:, :-1].values\n",
    "y = loadDataset.iloc[:, 1].values\n",
    "print(y.shape)\n",
    "print(X.shape)\n",
    "print(y)"
   ]
  },
  {
   "cell_type": "code",
   "execution_count": 231,
   "metadata": {},
   "outputs": [
    {
     "name": "stdout",
     "output_type": "stream",
     "text": [
      "(1070, 1)\n",
      "(1070,)\n",
      "(268, 1)\n",
      "(268,)\n"
     ]
    }
   ],
   "source": [
    "#Generating Train and Test Dataset\n",
    "from sklearn.model_selection import train_test_split\n",
    "X_train, X_test, y_train, y_test = train_test_split(X,y,test_size = 0.2,random_state = 0)\n",
    "print(X_train.shape)\n",
    "print(y_train.shape)\n",
    "print(X_test.shape)\n",
    "print(y_test.shape)"
   ]
  },
  {
   "cell_type": "code",
   "execution_count": 232,
   "metadata": {},
   "outputs": [
    {
     "data": {
      "text/plain": [
       "RandomForestRegressor(bootstrap=True, criterion='mse', max_depth=None,\n",
       "           max_features='auto', max_leaf_nodes=None,\n",
       "           min_impurity_decrease=0.0, min_impurity_split=None,\n",
       "           min_samples_leaf=1, min_samples_split=2,\n",
       "           min_weight_fraction_leaf=0.0, n_estimators=500, n_jobs=None,\n",
       "           oob_score=False, random_state=0, verbose=0, warm_start=False)"
      ]
     },
     "execution_count": 232,
     "metadata": {},
     "output_type": "execute_result"
    }
   ],
   "source": [
    "#Creating Random Forest Model\n",
    "from sklearn.ensemble import RandomForestRegressor\n",
    "#randomForestModel = RandomForestClassifier(n_estimators = 20).fit(X_train, y_train)\n",
    "randomForestModel = RandomForestRegressor(n_estimators = 500, random_state = 0)\n",
    "randomForestModel.fit(X_train,y_train)"
   ]
  },
  {
   "cell_type": "code",
   "execution_count": 233,
   "metadata": {},
   "outputs": [
    {
     "data": {
      "text/plain": [
       "array([19435.57101756, 16833.95007042, 13726.12192115, 21803.02147947,\n",
       "       15425.16937918, 11158.14598085,  7063.17255955, 15425.16937918,\n",
       "        8706.5583643 ,  9929.95534757, 11158.14598085, 15764.8895205 ,\n",
       "       18900.45030764, 13183.90880442, 13396.19834332, 15764.8895205 ,\n",
       "       20966.1094886 ,  6862.78379426,  8706.5583643 ,  8730.7698585 ,\n",
       "       15425.16937918, 16008.04145686, 19435.57101756, 16833.95007042,\n",
       "       11589.97792037,  9669.6941521 ,  8636.23391874, 11175.50902801,\n",
       "        9929.95534757, 15848.29311468, 11175.50902801, 17548.41215431,\n",
       "       16500.77982707, 15482.98982775, 10341.9437963 , 11401.76733153,\n",
       "       15506.27813912,  8636.23391874, 11175.50902801,  8730.7698585 ,\n",
       "       12296.99598046, 11567.26780676, 11815.05538538, 11981.71650163,\n",
       "        7063.17255955,  4185.93783443, 15764.8895205 , 12048.2320887 ,\n",
       "       11401.76733153, 14910.28912828, 13796.61850657,  9666.19498811,\n",
       "       13726.12192115, 15425.16937918, 11981.71650163,  8636.23391874,\n",
       "        6862.78379426, 15764.8895205 , 18900.45030764, 20966.1094886 ,\n",
       "        9666.19498811, 16500.77982707, 20966.1094886 , 15764.8895205 ,\n",
       "       13726.12192115, 15425.16937918,  9666.19498811,  9929.95534757,\n",
       "        4185.93783443, 11175.50902801, 21803.02147947, 14910.28912828,\n",
       "        8730.7698585 , 19032.01724672, 20966.1094886 , 20966.1094886 ,\n",
       "       15506.27813912, 15936.22503638, 19674.76406888, 21803.02147947,\n",
       "       16008.04145686, 18900.45030764, 11589.97792037, 15848.29311468,\n",
       "       18900.45030764, 11158.14598085,  6862.78379426,  6862.78379426,\n",
       "       17548.41215431, 11401.76733153,  9669.6941521 , 15482.98982775,\n",
       "       10688.23787825, 15848.29311468, 11158.14598085,  9669.6941521 ,\n",
       "       15482.98982775, 15936.22503638,  9929.95534757, 16008.04145686,\n",
       "       13796.61850657, 12296.99598046,  8636.23391874, 12296.99598046,\n",
       "       12048.2320887 , 13396.19834332, 16008.04145686,  8636.23391874,\n",
       "       11981.71650163, 20966.1094886 , 19384.71921466, 11401.76733153,\n",
       "       13726.12192115,  7063.17255955, 14910.28912828, 12048.2320887 ,\n",
       "        8730.7698585 , 15764.8895205 , 17548.41215431, 15506.27813912,\n",
       "       18900.45030764, 19435.57101756, 23942.87525949, 11401.76733153,\n",
       "       15936.22503638, 11567.26780676, 16833.95007042, 15848.29311468,\n",
       "       20966.1094886 ,  4185.93783443, 15936.22503638,  7063.17255955,\n",
       "        8706.5583643 , 15425.16937918, 12048.2320887 , 11158.14598085,\n",
       "       12048.2320887 , 15764.8895205 , 16230.73280274, 13796.61850657,\n",
       "        8730.7698585 , 15482.98982775, 12935.11527153, 19384.71921466,\n",
       "       11158.14598085, 23942.87525949, 17548.41215431, 13796.61850657,\n",
       "        9666.19498811, 19384.71921466,  8706.5583643 , 13396.19834332,\n",
       "       15425.16937918,  7063.17255955,  9666.19498811, 11175.50902801,\n",
       "       11589.97792037,  7063.17255955, 15764.8895205 , 16833.95007042,\n",
       "       13396.19834332, 16500.77982707, 20966.1094886 , 15425.16937918,\n",
       "        9669.6941521 , 10341.9437963 ,  9666.19498811,  9929.95534757,\n",
       "        9929.95534757,  7063.17255955, 13396.19834332,  8636.23391874,\n",
       "       18900.45030764, 10341.9437963 , 13396.19834332, 10688.23787825,\n",
       "        8636.23391874, 11815.05538538, 17548.41215431,  7063.17255955,\n",
       "       19435.57101756, 19674.76406888, 14910.28912828, 13396.19834332,\n",
       "       11158.14598085, 16500.77982707, 11589.97792037,  4185.93783443,\n",
       "       23942.87525949, 12935.11527153, 15764.8895205 ,  6862.78379426,\n",
       "       12296.99598046, 13726.12192115, 10688.23787825, 10341.9437963 ,\n",
       "       19674.76406888, 13183.90880442, 11567.26780676,  9929.95534757,\n",
       "       19384.71921466, 23942.87525949, 15482.98982775,  9929.95534757,\n",
       "       11567.26780676, 16833.95007042, 10688.23787825, 19435.57101756,\n",
       "       11571.67961167,  7063.17255955, 13726.12192115, 16500.77982707,\n",
       "        8636.23391874, 13796.61850657, 10375.77790244, 10341.9437963 ,\n",
       "       12296.99598046, 13183.90880442, 17548.41215431, 19674.76406888,\n",
       "       11158.14598085, 11815.05538538, 13726.12192115, 10688.23787825,\n",
       "       11981.71650163, 23942.87525949, 16008.04145686, 11981.71650163,\n",
       "        8706.5583643 , 10688.23787825,  7063.17255955, 15506.27813912,\n",
       "       17548.41215431,  7063.17255955,  9669.6941521 , 10375.77790244,\n",
       "       13726.12192115, 10341.9437963 ,  8706.5583643 , 16230.73280274,\n",
       "        8706.5583643 ,  8730.7698585 , 10375.77790244, 18900.45030764,\n",
       "       18900.45030764, 16230.73280274,  4185.93783443, 18900.45030764,\n",
       "       11589.97792037, 10375.77790244, 11401.76733153, 19032.01724672,\n",
       "        6862.78379426, 10688.23787825,  7063.17255955,  7063.17255955,\n",
       "       15848.29311468,  7063.17255955, 10688.23787825, 13396.19834332,\n",
       "       15848.29311468, 15764.8895205 , 16500.77982707, 16500.77982707,\n",
       "       10375.77790244, 14910.28912828, 11401.76733153, 15506.27813912])"
      ]
     },
     "execution_count": 233,
     "metadata": {},
     "output_type": "execute_result"
    }
   ],
   "source": [
    "#Predicting on the Test Data\n",
    "randomForestModelPrediction = randomForestModel.predict(X_test)\n",
    "randomForestModelPrediction"
   ]
  },
  {
   "cell_type": "code",
   "execution_count": 234,
   "metadata": {},
   "outputs": [
    {
     "name": "stdout",
     "output_type": "stream",
     "text": [
      "Mean Absolute Error: 9054.84 degrees.\n"
     ]
    }
   ],
   "source": [
    "# Calculate the absolute errors\n",
    "errors = abs(randomForestModelPrediction - y_test)\n",
    "\n",
    "# Print out the mean absolute error (mae)\n",
    "print('Mean Absolute Error:', round(np.mean(errors), 2), 'degrees.')\n"
   ]
  },
  {
   "cell_type": "code",
   "execution_count": 235,
   "metadata": {},
   "outputs": [
    {
     "name": "stdout",
     "output_type": "stream",
     "text": [
      "Accuracy: -11.98 %.\n"
     ]
    }
   ],
   "source": [
    "# Calculate mean absolute percentage error (MAPE)\n",
    "mape = 100 * (errors / y_test)\n",
    "\n",
    "# Calculate and display accuracy\n",
    "accuracy = 100 - np.mean(mape)\n",
    "print('Accuracy:', round(accuracy, 2), '%.')"
   ]
  },
  {
   "cell_type": "code",
   "execution_count": 244,
   "metadata": {},
   "outputs": [
    {
     "data": {
      "image/png": "[encoded data removed]",
      "text/plain": [
       "<Figure size 432x288 with 1 Axes>"
      ]
     },
     "metadata": {
      "needs_background": "light"
     },
     "output_type": "display_data"
    }
   ],
   "source": [
    "#Plotting the Performance\n",
    "plt.scatter(X_train,y_train,color = 'red')\n",
    "plt.plot(X_test, randomForestModel.predict(X_test), color = 'blue')\n",
    "\n",
    "#plt.plot(X_train, randomForestModel.predict(X_train.reshape(-1,1)), color = 'blue')\n",
    "#plt.plot(_train, randomForestModel.predict(X_train),color = 'green')\n",
    "plt.show()"
   ]
  },
  {
   "cell_type": "code",
   "execution_count": null,
   "metadata": {},
   "outputs": [],
   "source": []
  }
 ],
 "metadata": {
  "kernelspec": {
   "display_name": "Python 3",
   "language": "python",
   "name": "python3"
  },
  "language_info": {
   "codemirror_mode": {
    "name": "ipython",
    "version": 3
   },
   "file_extension": ".py",
   "mimetype": "text/x-python",
   "name": "python",
   "nbconvert_exporter": "python",
   "pygments_lexer": "ipython3",
   "version": "3.7.3"
  }
 },
 "nbformat": 4,
 "nbformat_minor": 2
}
